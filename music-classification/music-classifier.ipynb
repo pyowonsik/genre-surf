{
 "cells": [
  {
   "cell_type": "markdown",
   "id": "af77b161",
   "metadata": {},
   "source": [
    "# Genre Surf - music genre classification"
   ]
  },
  {
   "cell_type": "markdown",
   "id": "410b11ae",
   "metadata": {},
   "source": [
    "### 1. Dataset download"
   ]
  },
  {
   "cell_type": "code",
   "execution_count": 27,
   "id": "00e933f0",
   "metadata": {},
   "outputs": [],
   "source": [
    "# kaggle API 인증\n",
    "import os\n",
    "os.environ['KAGGLE_USERNAME'] = \"lindocachete\"\n",
    "os.environ['KAGGLE_KEY'] = \"e23976ec213f99d8ef61e215e881c977\""
   ]
  },
  {
   "cell_type": "code",
   "execution_count": 28,
   "id": "431e4fbf",
   "metadata": {},
   "outputs": [
    {
     "name": "stdout",
     "output_type": "stream",
     "text": [
      "Requirement already satisfied: kaggle in /opt/anaconda3/lib/python3.9/site-packages (1.5.12)\n",
      "Requirement already satisfied: python-dateutil in /opt/anaconda3/lib/python3.9/site-packages (from kaggle) (2.8.2)\n",
      "Requirement already satisfied: python-slugify in /opt/anaconda3/lib/python3.9/site-packages (from kaggle) (7.0.0)\n",
      "Requirement already satisfied: requests in /opt/anaconda3/lib/python3.9/site-packages (from kaggle) (2.28.1)\n",
      "Requirement already satisfied: six>=1.10 in /opt/anaconda3/lib/python3.9/site-packages (from kaggle) (1.16.0)\n",
      "Requirement already satisfied: certifi in /opt/anaconda3/lib/python3.9/site-packages (from kaggle) (2022.9.24)\n",
      "Requirement already satisfied: urllib3 in /opt/anaconda3/lib/python3.9/site-packages (from kaggle) (1.26.11)\n",
      "Requirement already satisfied: tqdm in /opt/anaconda3/lib/python3.9/site-packages (from kaggle) (4.64.1)\n",
      "Requirement already satisfied: text-unidecode>=1.3 in /opt/anaconda3/lib/python3.9/site-packages (from python-slugify->kaggle) (1.3)\n",
      "Requirement already satisfied: charset-normalizer<3,>=2 in /opt/anaconda3/lib/python3.9/site-packages (from requests->kaggle) (2.0.4)\n",
      "Requirement already satisfied: idna<4,>=2.5 in /opt/anaconda3/lib/python3.9/site-packages (from requests->kaggle) (3.3)\n"
     ]
    }
   ],
   "source": [
    "# kaggle 안의 GTZAN 활용을 위해 kaggle 설치\n",
    "!pip install kaggle"
   ]
  },
  {
   "cell_type": "code",
   "execution_count": 29,
   "id": "332f6333",
   "metadata": {},
   "outputs": [
    {
     "name": "stdout",
     "output_type": "stream",
     "text": [
      "Downloading gtzan-dataset-music-genre-classification.zip to /Users/taehwan/Monte/genre-surf/music-classification\n",
      "100%|█████████████████████████████████████▉| 1.21G/1.21G [02:59<00:00, 7.15MB/s]\n",
      "100%|██████████████████████████████████████| 1.21G/1.21G [02:59<00:00, 7.27MB/s]\n"
     ]
    }
   ],
   "source": [
    "# GTZAN의 음악 장르 데이터셋 다운로드 받기\n",
    "!kaggle datasets download -d andradaolteanu/gtzan-dataset-music-genre-classification"
   ]
  },
  {
   "cell_type": "code",
   "execution_count": 30,
   "id": "6bbe1a49",
   "metadata": {},
   "outputs": [],
   "source": [
    "# 압축파일 압축 해제하기\n",
    "!unzip -q gtzan-dataset-music-genre-classification.zip"
   ]
  },
  {
   "cell_type": "code",
   "execution_count": null,
   "id": "704a0371",
   "metadata": {},
   "outputs": [],
   "source": []
  }
 ],
 "metadata": {
  "kernelspec": {
   "display_name": "Python 3 (ipykernel)",
   "language": "python",
   "name": "python3"
  },
  "language_info": {
   "codemirror_mode": {
    "name": "ipython",
    "version": 3
   },
   "file_extension": ".py",
   "mimetype": "text/x-python",
   "name": "python",
   "nbconvert_exporter": "python",
   "pygments_lexer": "ipython3",
   "version": "3.9.13"
  }
 },
 "nbformat": 4,
 "nbformat_minor": 5
}
